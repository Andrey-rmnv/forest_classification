{
 "cells": [
  {
   "cell_type": "markdown",
   "metadata": {},
   "source": [
    "## Solution\n",
    "The creation of the model will be carried out according to the following plan\n",
    "\n",
    "\n",
    "1.   Features analysis\n",
    "2.   Classification\n",
    "3.   Quality Assessment "
   ]
  },
  {
   "cell_type": "markdown",
   "metadata": {},
   "source": [
    "## 1. Feature Analysis\n",
    "\n",
    "For a better understanding of the problem, let's turn to the primary source - the article by Johnson et al. \n",
    "\n",
    "The study area for this article was a forested area in Ibaraki Prefecture, Japan, approximately 13 km × 12 km. The landscape consists mainly\n",
    "of Cryptomeria japonica (Sugi, or Japanese Cedar) planted forest, Chamaecyparis obtusa (Hinoki, or Japanese Cypress) planted forest and mixed deciduous broadleaf natural forest, with a small amount of other land use/land cover types scattered throughout the image (agriculture, roads, buildings and so on).\n",
    "\n",
    "Orthorectified ASTER imagery was acquired for three dates in different seasons (26 September 2010, 19 March 2011 and 8 May 2011) to provide adequate spectral **discrimination between coniferous and deciduous tree species**)"
   ]
  },
  {
   "cell_type": "markdown",
   "metadata": {},
   "source": [
    "<img src=\"forest.png\">"
   ]
  },
  {
   "cell_type": "markdown",
   "metadata": {},
   "source": []
  }
 ],
 "metadata": {
  "kernelspec": {
   "display_name": "Python 3.7.3 64-bit",
   "language": "python",
   "name": "python3"
  },
  "language_info": {
   "name": "python",
   "version": "3.7.3"
  },
  "orig_nbformat": 4,
  "vscode": {
   "interpreter": {
    "hash": "9b4d75ac280b6c7c3aa43866cb82dc88915409b55fec83a093dd0284cb58708e"
   }
  }
 },
 "nbformat": 4,
 "nbformat_minor": 2
}
